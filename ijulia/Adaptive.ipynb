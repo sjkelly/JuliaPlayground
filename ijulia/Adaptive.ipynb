{
 "cells": [
  {
   "cell_type": "code",
   "execution_count": 1,
   "metadata": {},
   "outputs": [],
   "source": [
    "using RegionTrees\n",
    "using StaticArrays\n",
    "using LinearAlgebra\n",
    "using BenchmarkTools\n",
    "using Revise"
   ]
  },
  {
   "cell_type": "code",
   "execution_count": 2,
   "metadata": {},
   "outputs": [],
   "source": [
    "import RegionTrees: needs_refinement, refine_data"
   ]
  },
  {
   "cell_type": "code",
   "execution_count": 3,
   "metadata": {},
   "outputs": [
    {
     "data": {
      "text/plain": [
       "AdaptiveDistanceField"
      ]
     },
     "execution_count": 3,
     "metadata": {},
     "output_type": "execute_result"
    }
   ],
   "source": [
    "struct AdaptiveDistanceField{C <: Cell} <: Function\n",
    "    root::C\n",
    "end\n",
    "\n",
    "function AdaptiveDistanceField(signed_distance::Function, origin::AbstractArray,\n",
    "              widths::AbstractArray,\n",
    "              rtol=1e-2,\n",
    "              atol=1e-2)\n",
    "    refinery = SignedDistanceRefinery(signed_distance, atol, rtol)\n",
    "    boundary = HyperRectangle(origin, widths)\n",
    "    root = Cell(boundary, refine_data(refinery, boundary))\n",
    "    adaptivesampling!(root, refinery)\n",
    "    AdaptiveDistanceField(root)\n",
    "end"
   ]
  },
  {
   "cell_type": "code",
   "execution_count": 27,
   "metadata": {},
   "outputs": [
    {
     "data": {
      "text/plain": [
       "refine_data (generic function with 3 methods)"
      ]
     },
     "execution_count": 27,
     "metadata": {},
     "output_type": "execute_result"
    }
   ],
   "source": [
    "struct SignedDistanceRefinery{F <: Function} <: AbstractRefinery\n",
    "    signed_distance_func::F\n",
    "    atol::Float64\n",
    "    rtol::Float64\n",
    "end\n",
    "\n",
    "function _get_cubeindex(iso_vals, iso)\n",
    "    cubeindex = iso_vals[1] < iso ? 0x01 : 0x00\n",
    "    iso_vals[2] < iso && (cubeindex |= 0x02)\n",
    "    iso_vals[3] < iso && (cubeindex |= 0x04)\n",
    "    iso_vals[4] < iso && (cubeindex |= 0x08)\n",
    "    cubeindex\n",
    "end\n",
    "\n",
    "function needs_refinement(refinery::SignedDistanceRefinery, cell::Cell)\n",
    "    minimum(cell.boundary.widths) > refinery.atol || return false\n",
    "\n",
    "    val = _get_cubeindex(cell.data, 0)\n",
    "    #@show val\n",
    "    bounds = cell.boundary\n",
    "    mid = (bounds.origin.+bounds.widths)./2\n",
    "    \n",
    "    value_interp = sum(cell.data)\n",
    "    value_true = refinery.signed_distance_func(mid)\n",
    "    if (val == 0x0f && value_true < 0) || (iszero(val) && value_true > 0)\n",
    "        return false\n",
    "    elseif !isapprox(value_interp, value_true, rtol=refinery.rtol, atol=refinery.atol)\n",
    "        return true\n",
    "    else\n",
    "        return false\n",
    "    end\n",
    "end\n",
    "\n",
    "function refine_data(refinery::SignedDistanceRefinery, cell::Cell, indices)\n",
    "    #@show indices\n",
    "    refine_data(refinery, child_boundary(cell,indices))\n",
    "end\n",
    "\n",
    "function refine_data(refinery::SignedDistanceRefinery, bounds::HyperRectangle)\n",
    "    pts = (bounds.origin, bounds.origin.+bounds.widths.*SVector(1,0),\n",
    "           bounds.origin.+bounds.widths.*SVector(1,1),bounds.origin.+bounds.widths)\n",
    "    map(refinery.signed_distance_func, pts)\n",
    "end"
   ]
  },
  {
   "cell_type": "code",
   "execution_count": 49,
   "metadata": {},
   "outputs": [
    {
     "data": {
      "text/plain": [
       "true_signed_distance (generic function with 1 method)"
      ]
     },
     "execution_count": 49,
     "metadata": {},
     "output_type": "execute_result"
    }
   ],
   "source": [
    "true_signed_distance(x) = sqrt(sum(x.^2)) - 1"
   ]
  },
  {
   "cell_type": "code",
   "execution_count": 50,
   "metadata": {},
   "outputs": [
    {
     "data": {
      "text/plain": [
       "BenchmarkTools.Trial: \n",
       "  memory estimate:  183.92 MiB\n",
       "  allocs estimate:  3013414\n",
       "  --------------\n",
       "  minimum time:     99.183 ms (0.00% GC)\n",
       "  median time:      144.120 ms (32.14% GC)\n",
       "  mean time:        158.957 ms (37.31% GC)\n",
       "  maximum time:     340.307 ms (71.36% GC)\n",
       "  --------------\n",
       "  samples:          32\n",
       "  evals/sample:     1"
      ]
     },
     "execution_count": 50,
     "metadata": {},
     "output_type": "execute_result"
    }
   ],
   "source": [
    "origin = SVector(-1, -1)\n",
    "widths = SVector(2, 2)\n",
    "@benchmark adf = AdaptiveDistanceField(true_signed_distance, origin, widths, 0.001,0.001)"
   ]
  },
  {
   "cell_type": "code",
   "execution_count": 51,
   "metadata": {},
   "outputs": [
    {
     "name": "stdout",
     "output_type": "stream",
     "text": [
      "length(collect(allleaves(adf.root))) = 904021\n"
     ]
    },
    {
     "data": {
      "text/plain": [
       "904021"
      ]
     },
     "execution_count": 51,
     "metadata": {},
     "output_type": "execute_result"
    }
   ],
   "source": [
    "@show length(collect(allleaves(adf.root)))"
   ]
  },
  {
   "cell_type": "code",
   "execution_count": null,
   "metadata": {},
   "outputs": [],
   "source": [
    "# compare to uniform sampling\n"
   ]
  }
 ],
 "metadata": {
  "kernelspec": {
   "display_name": "Julia 1.3.1",
   "language": "julia",
   "name": "julia-1.3"
  },
  "language_info": {
   "file_extension": ".jl",
   "mimetype": "application/julia",
   "name": "julia",
   "version": "1.3.1"
  }
 },
 "nbformat": 4,
 "nbformat_minor": 2
}
